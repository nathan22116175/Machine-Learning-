{
  "metadata": {
    "kernelspec": {
      "name": "python",
      "display_name": "Python (Pyodide)",
      "language": "python"
    },
    "language_info": {
      "codemirror_mode": {
        "name": "python",
        "version": 3
      },
      "file_extension": ".py",
      "mimetype": "text/x-python",
      "name": "python",
      "nbconvert_exporter": "python",
      "pygments_lexer": "ipython3",
      "version": "3.8"
    }
  },
  "nbformat_minor": 5,
  "nbformat": 4,
  "cells": [
    {
      "id": "def85ba8-82d0-425d-8009-a5bb0e1beadb",
      "cell_type": "code",
      "source": "import numpy as np\nimport pandas as pd\nimport matplotlib.pyplot as plt\nfrom sklearn.feature_extraction.text import TfidfVectorizer\nfrom sklearn.model_selection import train_test_split\nfrom sklearn.linear_model import LogisticRegression\nfrom sklearn.metrics import accuracy_score\n\n# Charger les données avec encodage correct\ndata = pd.read_csv('spam.csv', encoding='ISO-8859-1')\n\n# Sélectionner uniquement les colonnes utiles\ndata = data[['v1', 'v2']]\n\n# Supprimer les valeurs manquantes\ndata.dropna(inplace=True)\n\n# Convertir la colonne 'v1' en valeurs numériques (0 = ham, 1 = spam)\ndata['v1'].replace(['ham', 'spam'], [0, 1], inplace=True)\n\n# Définir les variables X et y\nX = data['v2']  # Texte des messages\ny = data['v1']  # Labels (ham/spam)\n\n# Transformer le texte en vecteurs numériques avec TfidfVectorizer\nvectorizer = TfidfVectorizer(stop_words='english')\nX = vectorizer.fit_transform(X)\n\n# Diviser les données en ensemble d'entraînement et de test\nX_train, X_test, y_train, y_test = train_test_split(X, y, test_size=0.2, random_state=0)\n\n# Initialiser et entraîner le modèle de régression logistique\nmodel = LogisticRegression()\nmodel.fit(X_train, y_train)\n\n# Prédictions sur l'ensemble de test\ny_pred = model.predict(X_test)\n\n# Évaluer la précision du modèle\naccuracy = accuracy_score(y_test, y_pred)\nprint(f\"Précision du modèle : {accuracy * 100:.2f}%\")\n\n# Fonction pour tester un message\ndef detect_spam(message):\n    message_vectorized = vectorizer.transform([message])  # Transformer le texte en vecteur\n    prediction = model.predict(message_vectorized)\n    print(\"SPAM\" if prediction[0] == 1 else \"HAM\")\n\n# Tester un message\ndetect_spam(\"URGENT! Your bank account is at risk. Verify immediately: www.fakebank.com\")",
      "metadata": {
        "trusted": true
      },
      "outputs": [
        {
          "name": "stderr",
          "output_type": "stream",
          "text": "<ipython-input-36-d469fca93d42>:19: FutureWarning: A value is trying to be set on a copy of a DataFrame or Series through chained assignment using an inplace method.\nThe behavior will change in pandas 3.0. This inplace method will never work because the intermediate object on which we are setting values always behaves as a copy.\n\nFor example, when doing 'df[col].method(value, inplace=True)', try using 'df.method({col: value}, inplace=True)' or df[col] = df[col].method(value) instead, to perform the operation inplace on the original object.\n\n\n  data['v1'].replace(['ham', 'spam'], [0, 1], inplace=True)\n<ipython-input-36-d469fca93d42>:19: FutureWarning: Downcasting behavior in `replace` is deprecated and will be removed in a future version. To retain the old behavior, explicitly call `result.infer_objects(copy=False)`. To opt-in to the future behavior, set `pd.set_option('future.no_silent_downcasting', True)`\n  data['v1'].replace(['ham', 'spam'], [0, 1], inplace=True)\n"
        },
        {
          "name": "stdout",
          "output_type": "stream",
          "text": "Précision du modèle : 94.08%\nSPAM\n"
        }
      ],
      "execution_count": 36
    },
    {
      "id": "d95ed234-6b27-4cd8-87df-149d11202348",
      "cell_type": "code",
      "source": "",
      "metadata": {
        "trusted": true
      },
      "outputs": [],
      "execution_count": null
    }
  ]
}