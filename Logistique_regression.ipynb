{
  "nbformat": 4,
  "nbformat_minor": 0,
  "metadata": {
    "colab": {
      "provenance": []
    },
    "kernelspec": {
      "name": "python3",
      "display_name": "Python 3"
    },
    "language_info": {
      "name": "python"
    }
  },
  "cells": [
    {
      "cell_type": "code",
      "source": [
        "import seaborn as sns\n",
        "import pandas as pd\n",
        "import numpy as np\n",
        "from sklearn.model_selection import train_test_split\n",
        "from sklearn.linear_model import LogisticRegression\n",
        "from sklearn.feature_extraction.text import TfidfVectorizer\n",
        "from sklearn.metrics import accuracy_score"
      ],
      "metadata": {
        "id": "Roh2F-i7ek_q"
      },
      "execution_count": 32,
      "outputs": []
    },
    {
      "cell_type": "code",
      "source": [
        "class L_regression :\n",
        "  def __init__(self, data) :\n",
        "    self.data = data\n",
        "    self.model = None\n",
        "\n",
        "  def display(self) :\n",
        "    print(self.data.head())\n",
        "\n",
        "  def dataFilter(self) :\n",
        "    dataF = self.data[['survived','pclass','sex', 'age']]\n",
        "    dataF.dropna(axis = 0, inplace = True)\n",
        "    dataF['sex'].replace(['male', 'female'], [0, 1] ,inplace = True)\n",
        "\n",
        "    self.data = dataF\n",
        "    print(self.data.head())\n",
        "\n",
        "  def split(self) :\n",
        "    X = self.data.drop('survived', axis = 1)\n",
        "    y = self.data['survived']\n",
        "    self.X_train, self.X_test, self.y_train, self.y_test = train_test_split(X, y, test_size=0.2, random_state=0)\n",
        "\n",
        "  def fit(self) :\n",
        "    self.model = LogisticRegression()\n",
        "    self.model.fit(self.X_train, self.y_train)\n",
        "    return self.model\n",
        "\n",
        "  def acurancy(self) :\n",
        "    y_pred = self.model.predict(self.X_test) # Prédictions sur l'ensemble de test\n",
        "    acc = accuracy_score(self.y_test, y_pred) # Évaluer la précision du modèle\n",
        "    print(f\"Précision du modèle : {acc * 100:.2f}%\")\n",
        "\n",
        "  def survie(self, pclass, sex, age) :\n",
        "    n = np.array([pclass, sex, age]).reshape(1,-1)\n",
        "    prediction = self.model.predict(n)\n",
        "    print(\"Survécu\" if prediction[0] == 1 else \"Non survécu\")\n",
        "\n",
        "dataFrame = sns.load_dataset('titanic')\n",
        "regression_instance = L_regression(dataFrame)\n",
        "\n",
        "regression_instance.dataFilter()\n",
        "regression_instance.split()\n",
        "model_train = regression_instance.fit()\n",
        "regression_instance.acurancy()\n",
        "regression_instance.survie(1, 0, 26)"
      ],
      "metadata": {
        "colab": {
          "base_uri": "https://localhost:8080/"
        },
        "id": "qOizOfOT2TC2",
        "outputId": "e2a4982b-0f53-4e77-beca-0c4287ac08d8"
      },
      "execution_count": 35,
      "outputs": [
        {
          "output_type": "stream",
          "name": "stdout",
          "text": [
            "   survived  pclass  sex   age\n",
            "0         0       3    0  22.0\n",
            "1         1       1    1  38.0\n",
            "2         1       3    1  26.0\n",
            "3         1       1    1  35.0\n",
            "4         0       3    0  35.0\n",
            "Précision du modèle : 85.31%\n",
            "Survécu\n"
          ]
        },
        {
          "output_type": "stream",
          "name": "stderr",
          "text": [
            "<ipython-input-35-73d4a056d5a0>:11: SettingWithCopyWarning: \n",
            "A value is trying to be set on a copy of a slice from a DataFrame\n",
            "\n",
            "See the caveats in the documentation: https://pandas.pydata.org/pandas-docs/stable/user_guide/indexing.html#returning-a-view-versus-a-copy\n",
            "  dataF.dropna(axis = 0, inplace = True)\n",
            "<ipython-input-35-73d4a056d5a0>:12: FutureWarning: A value is trying to be set on a copy of a DataFrame or Series through chained assignment using an inplace method.\n",
            "The behavior will change in pandas 3.0. This inplace method will never work because the intermediate object on which we are setting values always behaves as a copy.\n",
            "\n",
            "For example, when doing 'df[col].method(value, inplace=True)', try using 'df.method({col: value}, inplace=True)' or df[col] = df[col].method(value) instead, to perform the operation inplace on the original object.\n",
            "\n",
            "\n",
            "  dataF['sex'].replace(['male', 'female'], [0, 1] ,inplace = True)\n",
            "<ipython-input-35-73d4a056d5a0>:12: FutureWarning: Downcasting behavior in `replace` is deprecated and will be removed in a future version. To retain the old behavior, explicitly call `result.infer_objects(copy=False)`. To opt-in to the future behavior, set `pd.set_option('future.no_silent_downcasting', True)`\n",
            "  dataF['sex'].replace(['male', 'female'], [0, 1] ,inplace = True)\n",
            "<ipython-input-35-73d4a056d5a0>:12: SettingWithCopyWarning: \n",
            "A value is trying to be set on a copy of a slice from a DataFrame\n",
            "\n",
            "See the caveats in the documentation: https://pandas.pydata.org/pandas-docs/stable/user_guide/indexing.html#returning-a-view-versus-a-copy\n",
            "  dataF['sex'].replace(['male', 'female'], [0, 1] ,inplace = True)\n",
            "/usr/local/lib/python3.11/dist-packages/sklearn/utils/validation.py:2739: UserWarning: X does not have valid feature names, but LogisticRegression was fitted with feature names\n",
            "  warnings.warn(\n"
          ]
        }
      ]
    },
    {
      "cell_type": "code",
      "source": [],
      "metadata": {
        "id": "fcfeyDPg2dZM"
      },
      "execution_count": null,
      "outputs": []
    }
  ]
}